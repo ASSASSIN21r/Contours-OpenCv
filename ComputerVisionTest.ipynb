{
 "cells": [
  {
   "cell_type": "code",
   "execution_count": 1,
   "id": "00168958",
   "metadata": {},
   "outputs": [],
   "source": [
    "import cv2\n",
    "from rembg import remove"
   ]
  },
  {
   "cell_type": "code",
   "execution_count": 2,
   "id": "f9584352",
   "metadata": {},
   "outputs": [],
   "source": [
    "\n",
    "def backend(image):\n",
    "    \n",
    "    output_path = 'output.png'\n",
    "    \n",
    "    cv2.destroyAllWindows()\n",
    "    fit_size_finalImage = cv2.resize(image, (1440, 900))\n",
    "    # Crop image\n",
    "    r = cv2.selectROI(\"select the area\", fit_size_finalImage)\n",
    "    cropped_image = fit_size_finalImage[int(r[1]):int(r[1]+r[3]),int(r[0]):int(r[0]+r[2])]\n",
    "    \n",
    "    #remove bg using rembg\n",
    "    input = cropped_image\n",
    "    output = remove(input)\n",
    "\n",
    "\n",
    "    gray = cv2.cvtColor(output, cv2.COLOR_BGR2GRAY)\n",
    "    contours, hierarchy = cv2.findContours(gray, cv2.RETR_EXTERNAL, cv2.CHAIN_APPROX_NONE)\n",
    "    cv2.drawContours(cropped_image, contours, -1, (0, 255, 0), 3)\n",
    "\n",
    "    y,yEnd,x,xEnd=int(r[1]),int(r[1]+r[3]),int(r[0]),int(r[0]+r[2])\n",
    "\n",
    "    fit_size_finalImage[y:yEnd,x:xEnd] = cropped_image\n",
    "    cv2.destroyAllWindows()\n",
    "    cv2.imwrite(output_path, fit_size_finalImage)\n",
    "    cv2.imshow(\"output\",fit_size_finalImage)"
   ]
  },
  {
   "cell_type": "code",
   "execution_count": 4,
   "id": "8e08ecf9",
   "metadata": {},
   "outputs": [],
   "source": [
    "#declare paths\n",
    "path = '1.jpg'\n",
    "output_path = 'output.png'\n",
    "\n",
    "#read image and resize \n",
    "image = cv2.imread(path)\n",
    " \n",
    "#send the image to our function\n",
    "backend(image)\n",
    "\n",
    "#while loop for repetitive usage\n",
    "while 1:\n",
    "    img=cv2.imread(output_path)\n",
    "    if cv2.waitKey(0) == ord('c'):\n",
    "        cv2.destroyAllWindows()\n",
    "        cv2.imshow(\"image\",image)\n",
    "        cv2.destroyAllWindows()\n",
    "        backend(image)\n",
    "    elif cv2.waitKey(0) & 0XFF != ord('q'):\n",
    "        backend(image)\n",
    "    else:\n",
    "        cv2.destroyAllWindows()\n",
    "        break"
   ]
  },
  {
   "cell_type": "code",
   "execution_count": null,
   "id": "93030743",
   "metadata": {},
   "outputs": [],
   "source": []
  }
 ],
 "metadata": {
  "kernelspec": {
   "display_name": "Python 3 (ipykernel)",
   "language": "python",
   "name": "python3"
  },
  "language_info": {
   "codemirror_mode": {
    "name": "ipython",
    "version": 3
   },
   "file_extension": ".py",
   "mimetype": "text/x-python",
   "name": "python",
   "nbconvert_exporter": "python",
   "pygments_lexer": "ipython3",
   "version": "3.10.7"
  },
  "vscode": {
   "interpreter": {
    "hash": "f6e5e8a3ae9f09dcf2f45f8edb41571ccd0d3e1798efec59448a8e941481b2bc"
   }
  }
 },
 "nbformat": 4,
 "nbformat_minor": 5
}
