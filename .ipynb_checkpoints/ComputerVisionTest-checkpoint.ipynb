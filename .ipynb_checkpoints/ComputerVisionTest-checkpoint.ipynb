{
 "cells": [
  {
   "cell_type": "code",
   "execution_count": 1,
   "id": "00168958",
   "metadata": {},
   "outputs": [],
   "source": [
    "import cv2\n",
    "from rembg import remove\n",
    "import numpy as np\n",
    "from PIL import Image"
   ]
  },
  {
   "cell_type": "code",
   "execution_count": 2,
   "id": "8e08ecf9",
   "metadata": {},
   "outputs": [],
   "source": [
    "\n",
    "path = 'inputone.jpg'\n",
    "\n",
    "output_path = 'output.png'\n",
    "\n",
    "image = cv2.imread(path)\n",
    "# print(image.shape())\n",
    "fit_size_finalImage = cv2.resize(image, (1440, 900)) \n",
    "r = cv2.selectROI(\"select the area\", fit_size_finalImage)\n",
    " \n",
    "# Crop image\n",
    "cropped_image = fit_size_finalImage[int(r[1]):int(r[1]+r[3]),int(r[0]):int(r[0]+r[2])]\n",
    " \n",
    "input = cropped_image\n",
    "output = remove(input)\n",
    "cv2.imwrite(output_path, output)\n",
    "\n",
    "\n",
    "replace = fit_size_finalImage.copy()\n",
    "\n",
    "\n",
    "gray = cv2.cvtColor(output, cv2.COLOR_BGR2GRAY)\n",
    "contours, hierarchy = cv2.findContours(gray, cv2.RETR_EXTERNAL, cv2.CHAIN_APPROX_NONE)\n",
    "cv2.drawContours(cropped_image, contours, -1, (0, 255, 0), 3)\n",
    "\n",
    "y,yEnd,x,xEnd=int(r[1]),int(r[1]+r[3]),int(r[0]),int(r[0]+r[2])\n",
    "\n",
    "fit_size_finalImage[y:yEnd,x:xEnd] = cropped_image\n",
    "cv2.imshow('replace', fit_size_finalImage)\n",
    "\n",
    "# cv2.imshow(\"sd\",fit_size_finalImage)\n",
    "\n",
    "\n",
    "\n",
    "\n",
    "\n",
    "cv2.waitKey(0)\n",
    "cv2.destroyAllWindows() "
   ]
  },
  {
   "cell_type": "code",
   "execution_count": 5,
   "id": "eb37da08",
   "metadata": {},
   "outputs": [],
   "source": []
  },
  {
   "cell_type": "code",
   "execution_count": null,
   "id": "7cd6851f",
   "metadata": {},
   "outputs": [],
   "source": []
  }
 ],
 "metadata": {
  "kernelspec": {
   "display_name": "Python 3 (ipykernel)",
   "language": "python",
   "name": "python3"
  },
  "language_info": {
   "codemirror_mode": {
    "name": "ipython",
    "version": 3
   },
   "file_extension": ".py",
   "mimetype": "text/x-python",
   "name": "python",
   "nbconvert_exporter": "python",
   "pygments_lexer": "ipython3",
   "version": "3.9.13"
  },
  "vscode": {
   "interpreter": {
    "hash": "f6e5e8a3ae9f09dcf2f45f8edb41571ccd0d3e1798efec59448a8e941481b2bc"
   }
  }
 },
 "nbformat": 4,
 "nbformat_minor": 5
}
